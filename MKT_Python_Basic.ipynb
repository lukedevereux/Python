{
  "nbformat": 4,
  "nbformat_minor": 0,
  "metadata": {
    "colab": {
      "provenance": []
    },
    "kernelspec": {
      "name": "python3",
      "display_name": "Python 3"
    },
    "language_info": {
      "name": "python"
    }
  },
  "cells": [
    {
      "cell_type": "markdown",
      "source": [],
      "metadata": {
        "id": "jB9NWrJreHOW"
      }
    },
    {
      "cell_type": "markdown",
      "source": [
        "# **Lesson 1: Basic Python Introduction**\n",
        "written by: Luke Devereux 2022\n",
        "\n",
        "**Hello and welcome!**\n",
        "Today we will run through the basic Python skills.\n",
        "\n",
        "Python is very useful as it's an open source programming language that can let us do some very complex things for free. So it is very beneficial for any budding analysis nerds. \n",
        "\n",
        "If you have any questions just let me know. And don't worry if you get stuck at times. Coding is all about trial and error (and then Googling things to try and solve those errors!).\n",
        "\n",
        "We are running this in Google Colab. In Colab you will have some input spaces, and when you run these you will get an output. So it's quite handy for going step by step. You can also add 'code' or 'text' if you hover over a line.\n",
        "\n",
        "Also any code you see after a hashtag '#for example like this', means it is a comment. Comments are ignored by Python and are useful for us.\n",
        "\n",
        "`print('Hello World) # after the hashtag is a comment.`\n",
        "\n",
        "Comments are very helpful for you to leave yourself when coding. They let you rememeber what your code does, but it also helps other people if they look at your code.\n",
        "\n"
      ],
      "metadata": {
        "id": "zhdioN_FJcXt"
      }
    },
    {
      "cell_type": "markdown",
      "source": [
        "Today we will look at:\n",
        "\n",
        "\n",
        "*   Basic calculations\n",
        "*   Variables\n",
        "\n",
        "\n",
        "*   Numbers\n",
        "*   Text and input\n",
        "\n",
        "\n",
        "*   Lists\n",
        "*   For loops\n",
        "\n",
        "\n",
        "\n",
        "\n",
        "\n"
      ],
      "metadata": {
        "id": "ry9P-8KwfHke"
      }
    },
    {
      "cell_type": "markdown",
      "source": [
        "**Basic Calculations in Python:**"
      ],
      "metadata": {
        "id": "u6IUWLmL4402"
      }
    },
    {
      "cell_type": "markdown",
      "source": [
        "Let's look at some basic things in Python. Such as using it as a calculator and creating some variables. Let's first use it as a calculator."
      ],
      "metadata": {
        "id": "FcQVCmn-QHZ7"
      }
    },
    {
      "cell_type": "code",
      "execution_count": null,
      "metadata": {
        "colab": {
          "base_uri": "https://localhost:8080/"
        },
        "id": "vSw9G2TePC6y",
        "outputId": "06901985-57bb-4f63-c1d8-a1fc6f3629ca"
      },
      "outputs": [
        {
          "output_type": "execute_result",
          "data": {
            "text/plain": [
              "4"
            ]
          },
          "metadata": {},
          "execution_count": 1
        }
      ],
      "source": [
        "2+2 #simple addition, here we are just adding 2+2"
      ]
    },
    {
      "cell_type": "markdown",
      "source": [
        "**TASK** Try doing some other basic calculations. I don't know...maybe 3+4.\n",
        "Here are some symbols you can use:\n",
        "\n",
        "*   addition: +\n",
        "*   subtract: -\n",
        "\n",
        "\n",
        "*   Multiply: * e.g. 10*2\n",
        "*   Divide: / e.g. 10/2\n",
        "\n",
        "Enter some below, and then maybe add your own line of code. Maybe add some comments using # that describe what your code is doing"
      ],
      "metadata": {
        "id": "AzBduv69X6nI"
      }
    },
    {
      "cell_type": "code",
      "source": [],
      "metadata": {
        "id": "UzdDIf_VZfn1"
      },
      "execution_count": null,
      "outputs": []
    },
    {
      "cell_type": "markdown",
      "source": [
        "We can also store various things in variables. For example we store the result of 2+2 in the variable x. It doesn't have to be x, it could be named MyFirstVariable if you wanted."
      ],
      "metadata": {
        "id": "x5mAKBgaKalt"
      }
    },
    {
      "cell_type": "code",
      "source": [
        "x = 2+2 #create a variable called x. Or we could do MyFirstVariable = 2+2"
      ],
      "metadata": {
        "id": "VpE8OlmGPGTP"
      },
      "execution_count": null,
      "outputs": []
    },
    {
      "cell_type": "markdown",
      "source": [
        "We can then run this variable by just typing in x and running this"
      ],
      "metadata": {
        "id": "cu7NHzJDiNUU"
      }
    },
    {
      "cell_type": "code",
      "source": [
        "x #lets run x to see if it shows our contents of the variable"
      ],
      "metadata": {
        "colab": {
          "base_uri": "https://localhost:8080/"
        },
        "id": "-29UFYXqPJ4z",
        "outputId": "f457e443-d904-43c2-8e3c-d4e4687c0516"
      },
      "execution_count": null,
      "outputs": [
        {
          "output_type": "execute_result",
          "data": {
            "text/plain": [
              "4"
            ]
          },
          "metadata": {},
          "execution_count": 3
        }
      ]
    },
    {
      "cell_type": "markdown",
      "source": [
        "Lets create a second variable to store the number 56 in. We shall name this variable y. But again you could name it anything."
      ],
      "metadata": {
        "id": "Eyz8h6Fka8DW"
      }
    },
    {
      "cell_type": "code",
      "source": [
        "y = 56 #create a variable called y"
      ],
      "metadata": {
        "id": "vhN_S3w8PLZ-"
      },
      "execution_count": null,
      "outputs": []
    },
    {
      "cell_type": "markdown",
      "source": [
        "We can then start playing with these variables. For example, adding them together, subtracting them etc."
      ],
      "metadata": {
        "id": "Em0AN67vPZcv"
      }
    },
    {
      "cell_type": "code",
      "source": [
        "x+y #addition"
      ],
      "metadata": {
        "colab": {
          "base_uri": "https://localhost:8080/"
        },
        "id": "JDu6BaWrPLs5",
        "outputId": "404ad36f-6920-45fd-d5a7-0c6385fb81b1"
      },
      "execution_count": null,
      "outputs": [
        {
          "output_type": "execute_result",
          "data": {
            "text/plain": [
              "60"
            ]
          },
          "metadata": {},
          "execution_count": 5
        }
      ]
    },
    {
      "cell_type": "code",
      "source": [
        "x-y #subtract "
      ],
      "metadata": {
        "colab": {
          "base_uri": "https://localhost:8080/"
        },
        "id": "rSxPzp2SPL4o",
        "outputId": "38b8fd9a-b284-45bf-e78f-8e81f591775a"
      },
      "execution_count": null,
      "outputs": [
        {
          "output_type": "execute_result",
          "data": {
            "text/plain": [
              "-52"
            ]
          },
          "metadata": {},
          "execution_count": 7
        }
      ]
    },
    {
      "cell_type": "code",
      "source": [
        "x*3 #multiply by 3"
      ],
      "metadata": {
        "colab": {
          "base_uri": "https://localhost:8080/"
        },
        "id": "-BB1QSrpPMBq",
        "outputId": "4af32858-651b-45b2-a79d-9a8ba29faffe"
      },
      "execution_count": null,
      "outputs": [
        {
          "output_type": "execute_result",
          "data": {
            "text/plain": [
              "12"
            ]
          },
          "metadata": {},
          "execution_count": 8
        }
      ]
    },
    {
      "cell_type": "markdown",
      "source": [
        "Let's store something in a new variable now. We will give it the imaginative title of New_variable. When naming variables you have to make sure it is all one statement, so we can use_ to help join things. e.g. New_variable and not New variable."
      ],
      "metadata": {
        "id": "-93FaHO6KzYk"
      }
    },
    {
      "cell_type": "code",
      "source": [
        "#Let's store something as a combination of our above variables and name it New_variable\n",
        "New_variable = x*y #this stores the result of x*y as a new variable"
      ],
      "metadata": {
        "id": "1ov8Pg-5Pqee"
      },
      "execution_count": null,
      "outputs": []
    },
    {
      "cell_type": "markdown",
      "source": [
        "Now let's look at this new variable"
      ],
      "metadata": {
        "id": "hTzO2TBcbgPW"
      }
    },
    {
      "cell_type": "code",
      "source": [
        "New_variable"
      ],
      "metadata": {
        "colab": {
          "base_uri": "https://localhost:8080/"
        },
        "id": "nLE4SM7CP2l9",
        "outputId": "cf6fe2e0-e5cb-4411-ca91-47e635b83eb7"
      },
      "execution_count": null,
      "outputs": [
        {
          "output_type": "execute_result",
          "data": {
            "text/plain": [
              "224"
            ]
          },
          "metadata": {},
          "execution_count": 6
        }
      ]
    },
    {
      "cell_type": "markdown",
      "source": [
        "We can store different things in variables. For example text can be stored as a string of text. We will store it as Text1.\n",
        "\n",
        "It's is useful to be familiar with text as well, as we may have to do analysis on text."
      ],
      "metadata": {
        "id": "m6B1tvpVLIgp"
      }
    },
    {
      "cell_type": "code",
      "source": [
        "#Lets try this with text now. \n",
        "\n",
        "Text1 = 'Hello world you fun world you.' #Text is inputted as a string 'in these' ''"
      ],
      "metadata": {
        "id": "yWcc1LdiQSi9"
      },
      "execution_count": null,
      "outputs": []
    },
    {
      "cell_type": "markdown",
      "source": [
        "Now lets run our variable."
      ],
      "metadata": {
        "id": "mXAEk3q75gog"
      }
    },
    {
      "cell_type": "code",
      "source": [
        "Text1"
      ],
      "metadata": {
        "colab": {
          "base_uri": "https://localhost:8080/",
          "height": 35
        },
        "id": "WOK1ow_6Qdx_",
        "outputId": "5b9075ef-5864-4539-ec26-fe7b5d680ae6"
      },
      "execution_count": null,
      "outputs": [
        {
          "output_type": "execute_result",
          "data": {
            "text/plain": [
              "'Hello world you fun world you.'"
            ],
            "application/vnd.google.colaboratory.intrinsic+json": {
              "type": "string"
            }
          },
          "metadata": {},
          "execution_count": 9
        }
      ]
    },
    {
      "cell_type": "markdown",
      "source": [
        "Let's create another variable called Text 2"
      ],
      "metadata": {
        "id": "iXxW4F7ALX3y"
      }
    },
    {
      "cell_type": "code",
      "source": [
        "Text2 = 'I LOVE analytics so much'"
      ],
      "metadata": {
        "id": "HPKg4GZBQhEj"
      },
      "execution_count": null,
      "outputs": []
    },
    {
      "cell_type": "markdown",
      "source": [
        "We can add these together then and start playing with them."
      ],
      "metadata": {
        "id": "hP4fEPMFLcYf"
      }
    },
    {
      "cell_type": "code",
      "source": [
        "Text1 + Text2"
      ],
      "metadata": {
        "colab": {
          "base_uri": "https://localhost:8080/",
          "height": 35
        },
        "id": "LGvCvc5JQpVA",
        "outputId": "0312a9c9-eea5-45a2-8e94-812202564467"
      },
      "execution_count": null,
      "outputs": [
        {
          "output_type": "execute_result",
          "data": {
            "text/plain": [
              "'Hello world you fun world you.I LOVE analytics so much'"
            ],
            "application/vnd.google.colaboratory.intrinsic+json": {
              "type": "string"
            }
          },
          "metadata": {},
          "execution_count": 11
        }
      ]
    },
    {
      "cell_type": "markdown",
      "source": [
        "Or maybe combine it with our previous variable x. Here we multiply Text1 by the value of x."
      ],
      "metadata": {
        "id": "nshmI0VoLiUt"
      }
    },
    {
      "cell_type": "code",
      "source": [
        "Text1 * x #we can even combine these things. Here we multiple Text 1 by our previous variable x"
      ],
      "metadata": {
        "colab": {
          "base_uri": "https://localhost:8080/",
          "height": 35
        },
        "id": "lCYa2iYcQ14J",
        "outputId": "401ddae8-bfe8-402a-e0e1-d794e39d48f1"
      },
      "execution_count": null,
      "outputs": [
        {
          "output_type": "execute_result",
          "data": {
            "text/plain": [
              "'Hello world you fun world you.Hello world you fun world you.Hello world you fun world you.Hello world you fun world you.'"
            ],
            "application/vnd.google.colaboratory.intrinsic+json": {
              "type": "string"
            }
          },
          "metadata": {},
          "execution_count": 12
        }
      ]
    },
    {
      "cell_type": "code",
      "source": [
        "print(Text1) #this prints the variable Text1"
      ],
      "metadata": {
        "colab": {
          "base_uri": "https://localhost:8080/"
        },
        "id": "c8GsglDPtwHe",
        "outputId": "6127c29c-e1a0-46f4-e9f7-dc6bf34d6ff0"
      },
      "execution_count": null,
      "outputs": [
        {
          "output_type": "stream",
          "name": "stdout",
          "text": [
            "Hello world you fun world you.\n"
          ]
        }
      ]
    },
    {
      "cell_type": "code",
      "source": [
        "print(Text1*3) #this prints it 3 times"
      ],
      "metadata": {
        "colab": {
          "base_uri": "https://localhost:8080/"
        },
        "id": "ZMnaBfIkxSv_",
        "outputId": "8e8f75b6-b12d-443d-d522-dae513198c7d"
      },
      "execution_count": null,
      "outputs": [
        {
          "output_type": "stream",
          "name": "stdout",
          "text": [
            "Hello world you fun world you.Hello world you fun world you.Hello world you fun world you.\n"
          ]
        }
      ]
    },
    {
      "cell_type": "markdown",
      "source": [
        "**Task 1**: Create a new variable (name it whatever you like) and store \n",
        "some new text in it. Add a comment using # that says what it is doing. Then try playing around with it using some of the examples above. So try multiplying it by a number.\n",
        "\n",
        "**Task 2**: Create a second new variable (name it whatever you like) and store some new text in it. Then try and output your first new variable and your second one using +"
      ],
      "metadata": {
        "id": "-VrSRbjoLsSR"
      }
    },
    {
      "cell_type": "markdown",
      "source": [
        "We can also take user input and use it in this manner. We can do this using the input() function. Run the below code. Once you have inputted your name, hit enter."
      ],
      "metadata": {
        "id": "rB29b41xxdbT"
      }
    },
    {
      "cell_type": "code",
      "source": [
        "name = input('what is your name?(press enter when done)') #creates a variable called name and put in it the result of the input box"
      ],
      "metadata": {
        "colab": {
          "base_uri": "https://localhost:8080/"
        },
        "id": "98yW2GFuxibQ",
        "outputId": "1b58f2b9-28f0-478f-a96b-1b62aeca5560"
      },
      "execution_count": null,
      "outputs": [
        {
          "name": "stdout",
          "output_type": "stream",
          "text": [
            "what is your name?(press enter when done)Franco\n"
          ]
        }
      ]
    },
    {
      "cell_type": "code",
      "source": [
        "name #runs to test it is now stored as the variable 'name'"
      ],
      "metadata": {
        "colab": {
          "base_uri": "https://localhost:8080/",
          "height": 35
        },
        "id": "fS2lZsz6ypO8",
        "outputId": "d8a23018-2f07-4853-cb85-ec2e6e4606a1"
      },
      "execution_count": null,
      "outputs": [
        {
          "output_type": "execute_result",
          "data": {
            "text/plain": [
              "'Franco'"
            ],
            "application/vnd.google.colaboratory.intrinsic+json": {
              "type": "string"
            }
          },
          "metadata": {},
          "execution_count": 14
        }
      ]
    },
    {
      "cell_type": "markdown",
      "source": [
        "We can then combine this with other things (which is how lots of sites/apps etc will personalise things). So let's create another variable called 'message' and store some text in it."
      ],
      "metadata": {
        "id": "tobSudl4Nt0S"
      }
    },
    {
      "cell_type": "code",
      "source": [
        "message = 'loves marketing so much. In fact so much that it is a little embarrassing' #creates message variable with some text in it."
      ],
      "metadata": {
        "id": "vYPAIJ_4yCJb"
      },
      "execution_count": null,
      "outputs": []
    },
    {
      "cell_type": "code",
      "source": [
        "name #just check our name variable again"
      ],
      "metadata": {
        "colab": {
          "base_uri": "https://localhost:8080/",
          "height": 35
        },
        "id": "hUocgCncx_D8",
        "outputId": "e3812bfa-30d4-480b-c8e8-f35e145c2826"
      },
      "execution_count": null,
      "outputs": [
        {
          "output_type": "execute_result",
          "data": {
            "text/plain": [
              "'Franco'"
            ],
            "application/vnd.google.colaboratory.intrinsic+json": {
              "type": "string"
            }
          },
          "metadata": {},
          "execution_count": 16
        }
      ]
    },
    {
      "cell_type": "markdown",
      "source": [
        "Now let's add these two things together."
      ],
      "metadata": {
        "id": "6SQ7s9iZOHaY"
      }
    },
    {
      "cell_type": "code",
      "source": [
        "name+message # we can print them together"
      ],
      "metadata": {
        "colab": {
          "base_uri": "https://localhost:8080/",
          "height": 35
        },
        "id": "eZ972YdByuEY",
        "outputId": "ab06b6bc-1109-4dd3-fb99-534ec43c26f8"
      },
      "execution_count": null,
      "outputs": [
        {
          "output_type": "execute_result",
          "data": {
            "text/plain": [
              "'Francoloves marketing so much. In fact so much that it is a little embarrassing'"
            ],
            "application/vnd.google.colaboratory.intrinsic+json": {
              "type": "string"
            }
          },
          "metadata": {},
          "execution_count": 17
        }
      ]
    },
    {
      "cell_type": "markdown",
      "source": [
        "You may notice the name joins with the first word. You will soon see that programming language will follow your exact instruction a lot of the time. So you need to be specific. In this instance, we probably need to put a space in somewhere."
      ],
      "metadata": {
        "id": "zSVUArwbONSV"
      }
    },
    {
      "cell_type": "code",
      "source": [
        "name+ ' '+message #we have added a space now using ' '"
      ],
      "metadata": {
        "colab": {
          "base_uri": "https://localhost:8080/",
          "height": 35
        },
        "id": "G6CKeQTqy3X0",
        "outputId": "68d093f7-4a0c-4f51-fa5b-5fe9d10de954"
      },
      "execution_count": null,
      "outputs": [
        {
          "output_type": "execute_result",
          "data": {
            "text/plain": [
              "'Franco loves marketing so much. In fact so much that it is a little embarrassing'"
            ],
            "application/vnd.google.colaboratory.intrinsic+json": {
              "type": "string"
            }
          },
          "metadata": {},
          "execution_count": 33
        }
      ]
    },
    {
      "cell_type": "markdown",
      "source": [
        "**Task** Create a new message to combine with the name variable and run it. Please keep your new messages family friendly and not offensive!"
      ],
      "metadata": {
        "id": "YpQplZdmOl9d"
      }
    },
    {
      "cell_type": "code",
      "source": [
        "message"
      ],
      "metadata": {
        "colab": {
          "base_uri": "https://localhost:8080/",
          "height": 35
        },
        "id": "m4rC2Js15gH8",
        "outputId": "25ec7e81-8575-41ff-99c7-242755cfc5cc"
      },
      "execution_count": null,
      "outputs": [
        {
          "output_type": "execute_result",
          "data": {
            "text/plain": [
              "'loves marketing so much'"
            ],
            "application/vnd.google.colaboratory.intrinsic+json": {
              "type": "string"
            }
          },
          "metadata": {},
          "execution_count": 40
        }
      ]
    },
    {
      "cell_type": "code",
      "source": [],
      "metadata": {
        "id": "UvsMnAsWOhMe"
      },
      "execution_count": null,
      "outputs": []
    },
    {
      "cell_type": "markdown",
      "source": [
        "Another key programming area is looking at functions. This lets us pretty much create anything we want. Here is a very simple example of a function that takes a name and then delivers a message as output. This makes a more versatile approach than what we just did. This allows anyone to put their name into it. So its more flexible\n",
        "\n",
        "First we define a function using 'def'"
      ],
      "metadata": {
        "id": "KvcMT_M6kYNb"
      }
    },
    {
      "cell_type": "code",
      "source": [
        "def function_fun (name): #creates a function called function_fun and says it will need a name as input\n",
        "  print(name + ' is super not cool') #wehn we run the function it will print the name and a message"
      ],
      "metadata": {
        "id": "HyLNnP4ykPYb"
      },
      "execution_count": null,
      "outputs": []
    },
    {
      "cell_type": "code",
      "source": [
        "function_fun(\"Luke\") # you need to enter the name in \"\""
      ],
      "metadata": {
        "colab": {
          "base_uri": "https://localhost:8080/"
        },
        "id": "AQHseSBFkQZK",
        "outputId": "85ef7edd-a657-4ce0-eb01-f765f32ad0c9"
      },
      "execution_count": null,
      "outputs": [
        {
          "output_type": "stream",
          "name": "stdout",
          "text": [
            "Luke is super not cool\n"
          ]
        }
      ]
    },
    {
      "cell_type": "markdown",
      "source": [
        "Trying using this function but typing in different names. Or even start playing with the message as well"
      ],
      "metadata": {
        "id": "4rXa4bUpkoRc"
      }
    },
    {
      "cell_type": "code",
      "source": [],
      "metadata": {
        "id": "MfRm92-Hj0mG"
      },
      "execution_count": null,
      "outputs": []
    },
    {
      "cell_type": "markdown",
      "source": [
        "Or we can try expanding its inputs by incorporating other things"
      ],
      "metadata": {
        "id": "AqsfX3LJlIWj"
      }
    },
    {
      "cell_type": "code",
      "source": [
        "def function_fun2 (name, thing): #creates a function called function_fun2 and say it will need a name as input, and a thing\n",
        "  print(name + ' absolutely loves ' + thing) #when we run the function it will print the name and a message and the 'thing"
      ],
      "metadata": {
        "id": "kOXwRQc7lU_U"
      },
      "execution_count": null,
      "outputs": []
    },
    {
      "cell_type": "code",
      "source": [
        "function_fun2(\"Luke\", \"films\")"
      ],
      "metadata": {
        "colab": {
          "base_uri": "https://localhost:8080/"
        },
        "id": "1KSZN5erlhsa",
        "outputId": "630616e6-f0bf-48af-cffb-fd89b1b4dfb7"
      },
      "execution_count": null,
      "outputs": [
        {
          "output_type": "stream",
          "name": "stdout",
          "text": [
            "Luke absolutely loves films\n"
          ]
        }
      ]
    },
    {
      "cell_type": "markdown",
      "source": [
        "Of course we would create more serious functions. And in analysis we can create functions that do particular forms of analysis.  BUt this was just a short intro to functions and how to make them"
      ],
      "metadata": {
        "id": "JaqFrSSEl5Xr"
      }
    },
    {
      "cell_type": "markdown",
      "source": [
        "# Playing with numbers and lists"
      ],
      "metadata": {
        "id": "8QrZYuQxO1Kv"
      }
    },
    {
      "cell_type": "markdown",
      "source": [
        "Lets play with some numbers now. As data is often numbers as well as text. We will also introduce something called lists which are stored in square brackets [ ].\n"
      ],
      "metadata": {
        "id": "xMJCQQtDO8c8"
      }
    },
    {
      "cell_type": "markdown",
      "source": [
        "Lets create some list of things e.g. a list of numbers."
      ],
      "metadata": {
        "id": "rTV0S7KrzYJI"
      }
    },
    {
      "cell_type": "code",
      "source": [],
      "metadata": {
        "id": "kEssmhFkPP-M"
      },
      "execution_count": null,
      "outputs": []
    },
    {
      "cell_type": "markdown",
      "source": [
        "\n",
        "We will name it group1"
      ],
      "metadata": {
        "id": "0IIa4TzAWCpF"
      }
    },
    {
      "cell_type": "code",
      "source": [
        "group1 = [ 2, 4, 5, 67, 89, 34, 23, 2, 65, 2, 45] #this is stored in a list [] called group1"
      ],
      "metadata": {
        "id": "50R43BZQzb46"
      },
      "execution_count": null,
      "outputs": []
    },
    {
      "cell_type": "code",
      "source": [
        "group1 # lets test it came in. I usually do this just to check things have worked."
      ],
      "metadata": {
        "colab": {
          "base_uri": "https://localhost:8080/"
        },
        "id": "7C7Grbo9zloz",
        "outputId": "8e8e18d3-37e4-4270-9bc0-e46240368e8a"
      },
      "execution_count": null,
      "outputs": [
        {
          "output_type": "execute_result",
          "data": {
            "text/plain": [
              "[2, 4, 5, 67, 89, 34, 23, 2, 65, 2, 45]"
            ]
          },
          "metadata": {},
          "execution_count": 19
        }
      ]
    },
    {
      "cell_type": "markdown",
      "source": [
        "Now we have our list, let's find some data about it. This is where we start getting a feeling for our bit of data. Obviously this is a very small set of data but still."
      ],
      "metadata": {
        "id": "tCzGH0HEVfxQ"
      }
    },
    {
      "cell_type": "markdown",
      "source": [
        "What is the minimum number?"
      ],
      "metadata": {
        "id": "I51owh5SVlWc"
      }
    },
    {
      "cell_type": "code",
      "source": [
        "min(group1) #minimum"
      ],
      "metadata": {
        "colab": {
          "base_uri": "https://localhost:8080/"
        },
        "id": "CiEsg_jc_vex",
        "outputId": "1e797531-7b6d-4cb6-91d9-4bdcfc61c1c9"
      },
      "execution_count": null,
      "outputs": [
        {
          "output_type": "execute_result",
          "data": {
            "text/plain": [
              "2"
            ]
          },
          "metadata": {},
          "execution_count": 20
        }
      ]
    },
    {
      "cell_type": "markdown",
      "source": [
        "What is the max?"
      ],
      "metadata": {
        "id": "oAvaZvHVVqKI"
      }
    },
    {
      "cell_type": "code",
      "source": [
        "max(group1) #maximum"
      ],
      "metadata": {
        "colab": {
          "base_uri": "https://localhost:8080/"
        },
        "id": "4zYzt3HP_z6o",
        "outputId": "b8c7af3c-f6a2-44ee-d70e-9ddd56b655fd"
      },
      "execution_count": null,
      "outputs": [
        {
          "output_type": "execute_result",
          "data": {
            "text/plain": [
              "89"
            ]
          },
          "metadata": {},
          "execution_count": 21
        }
      ]
    },
    {
      "cell_type": "markdown",
      "source": [
        "What is the length of the list?"
      ],
      "metadata": {
        "id": "D3AMLsTxVt9b"
      }
    },
    {
      "cell_type": "code",
      "source": [
        "len(group1) #tells us the length of the dataset"
      ],
      "metadata": {
        "colab": {
          "base_uri": "https://localhost:8080/"
        },
        "id": "O_e4GlhhBW9w",
        "outputId": "51f8f90e-7d2d-4c19-ce20-b9b1929847c1"
      },
      "execution_count": null,
      "outputs": [
        {
          "output_type": "execute_result",
          "data": {
            "text/plain": [
              "11"
            ]
          },
          "metadata": {},
          "execution_count": 22
        }
      ]
    },
    {
      "cell_type": "markdown",
      "source": [
        "The sum of the list?"
      ],
      "metadata": {
        "id": "BEuVi7QQX0QM"
      }
    },
    {
      "cell_type": "code",
      "source": [
        "sum(group1)"
      ],
      "metadata": {
        "id": "0asBoqwxX3qj",
        "outputId": "765a9f76-3634-4bee-88f0-9736117bb582",
        "colab": {
          "base_uri": "https://localhost:8080/"
        }
      },
      "execution_count": null,
      "outputs": [
        {
          "output_type": "execute_result",
          "data": {
            "text/plain": [
              "338"
            ]
          },
          "metadata": {},
          "execution_count": 23
        }
      ]
    },
    {
      "cell_type": "markdown",
      "source": [
        "How many times does the number '2' appear in there?"
      ],
      "metadata": {
        "id": "A0M0VChyVzsS"
      }
    },
    {
      "cell_type": "code",
      "source": [
        "group1.count(2) #how many times does 2 appear in here. Maybe we would want to find how many times a customer appears in something?"
      ],
      "metadata": {
        "colab": {
          "base_uri": "https://localhost:8080/"
        },
        "id": "uhteA3l8Uxvd",
        "outputId": "98bf52f4-53ca-4f0b-c450-c954096744f0"
      },
      "execution_count": null,
      "outputs": [
        {
          "output_type": "execute_result",
          "data": {
            "text/plain": [
              "3"
            ]
          },
          "metadata": {},
          "execution_count": 24
        }
      ]
    },
    {
      "cell_type": "markdown",
      "source": [
        "Is a number in the list? This will report back TRUE or FALSE. Try out different numbers. Here we will ask is the number 5 in group1?"
      ],
      "metadata": {
        "id": "P8mYYZOKV56_"
      }
    },
    {
      "cell_type": "code",
      "source": [
        "5 in group1 #this checks if something is in your variable. Maybe we want to check if a customer is in a list?"
      ],
      "metadata": {
        "colab": {
          "base_uri": "https://localhost:8080/"
        },
        "id": "zXUAmRZQA7Dt",
        "outputId": "393bbd33-b7b2-4462-b30d-89154b444e68"
      },
      "execution_count": null,
      "outputs": [
        {
          "output_type": "execute_result",
          "data": {
            "text/plain": [
              "True"
            ]
          },
          "metadata": {},
          "execution_count": 25
        }
      ]
    },
    {
      "cell_type": "code",
      "source": [
        "6 in group1 #this checks if soemthing is in there. In this case it isnt."
      ],
      "metadata": {
        "colab": {
          "base_uri": "https://localhost:8080/"
        },
        "id": "VzBxXUgcBBUC",
        "outputId": "12f544c1-3eea-4424-d829-bbcd521d086d"
      },
      "execution_count": null,
      "outputs": [
        {
          "output_type": "execute_result",
          "data": {
            "text/plain": [
              "False"
            ]
          },
          "metadata": {},
          "execution_count": 57
        }
      ]
    },
    {
      "cell_type": "markdown",
      "source": [
        "We can also isolate things in the list. E.g we want to look for the third item in the list."
      ],
      "metadata": {
        "id": "3Wt-sHJTg0T2"
      }
    },
    {
      "cell_type": "code",
      "source": [
        "group1[3] #we can then isolate numbers in here"
      ],
      "metadata": {
        "colab": {
          "base_uri": "https://localhost:8080/"
        },
        "id": "_d6jH-WuzqnP",
        "outputId": "578fc960-f833-4b68-db35-32c478fbbf1f"
      },
      "execution_count": null,
      "outputs": [
        {
          "output_type": "execute_result",
          "data": {
            "text/plain": [
              "67"
            ]
          },
          "metadata": {},
          "execution_count": 22
        }
      ]
    },
    {
      "cell_type": "code",
      "source": [
        "group1[1]+group1[3] #or add them"
      ],
      "metadata": {
        "colab": {
          "base_uri": "https://localhost:8080/"
        },
        "id": "9GqTU4tgzz6g",
        "outputId": "7a9f8ebb-3438-488d-f816-82cd7a0f4afe"
      },
      "execution_count": null,
      "outputs": [
        {
          "output_type": "execute_result",
          "data": {
            "text/plain": [
              "71"
            ]
          },
          "metadata": {},
          "execution_count": 23
        }
      ]
    },
    {
      "cell_type": "code",
      "source": [
        "print(group1[3]) #print individually\n",
        "print(group1[4])"
      ],
      "metadata": {
        "colab": {
          "base_uri": "https://localhost:8080/"
        },
        "id": "Z-7C5ydRz8QN",
        "outputId": "0468f4ab-d2f6-4bf9-b671-f5beaa335837"
      },
      "execution_count": null,
      "outputs": [
        {
          "output_type": "stream",
          "name": "stdout",
          "text": [
            "67\n",
            "89\n"
          ]
        }
      ]
    },
    {
      "cell_type": "markdown",
      "source": [
        "We can add things to the list using append(). Here we will add the number 78 to the list. For example we may want to add a customer to a list."
      ],
      "metadata": {
        "id": "14OXDUU6hAAu"
      }
    },
    {
      "cell_type": "code",
      "source": [
        "group1.append(78) #this adds 78 to our group 1."
      ],
      "metadata": {
        "id": "vIGqtmwQ4spa"
      },
      "execution_count": null,
      "outputs": []
    },
    {
      "cell_type": "code",
      "source": [
        "group1 #lets run it to see if it is added."
      ],
      "metadata": {
        "colab": {
          "base_uri": "https://localhost:8080/"
        },
        "id": "6YXrCWC4hHZ9",
        "outputId": "063ce7a7-bb3c-4c45-8b21-56b8254ea950"
      },
      "execution_count": null,
      "outputs": [
        {
          "output_type": "execute_result",
          "data": {
            "text/plain": [
              "[2, 4, 5, 67, 89, 34, 23, 2, 65, 2, 45, 78]"
            ]
          },
          "metadata": {},
          "execution_count": 14
        }
      ]
    },
    {
      "cell_type": "markdown",
      "source": [
        "**TASK** Try creating a new group of numbers and storing it in the variable group2.\n",
        "\n",
        "**TASK** Add some numbers to your group2 variable using .append()"
      ],
      "metadata": {
        "id": "f42uaft7eHnl"
      }
    },
    {
      "cell_type": "code",
      "source": [
        "#we can even start with empty lists and then add to them"
      ],
      "metadata": {
        "id": "MEa5YuWg51gw"
      },
      "execution_count": null,
      "outputs": []
    },
    {
      "cell_type": "code",
      "source": [
        "firstlist = [] #creates an empty list called firstlist"
      ],
      "metadata": {
        "id": "uEh3Mdb-51rt"
      },
      "execution_count": null,
      "outputs": []
    },
    {
      "cell_type": "code",
      "source": [
        "firstlist.append(2) #adds in the number 2 into our empty list"
      ],
      "metadata": {
        "id": "BUtz9hef51z-"
      },
      "execution_count": null,
      "outputs": []
    },
    {
      "cell_type": "code",
      "source": [
        "firstlist"
      ],
      "metadata": {
        "colab": {
          "base_uri": "https://localhost:8080/"
        },
        "id": "N8xKkjQy6GH4",
        "outputId": "c9780b05-fc48-469f-fd41-ee56afc2d89d"
      },
      "execution_count": null,
      "outputs": [
        {
          "output_type": "execute_result",
          "data": {
            "text/plain": [
              "[2]"
            ]
          },
          "metadata": {},
          "execution_count": 19
        }
      ]
    },
    {
      "cell_type": "code",
      "source": [
        "#lets add some more numbers in\n",
        "firstlist.append(34)"
      ],
      "metadata": {
        "id": "DuW71qCh6Oq_"
      },
      "execution_count": null,
      "outputs": []
    },
    {
      "cell_type": "code",
      "source": [
        "firstlist"
      ],
      "metadata": {
        "colab": {
          "base_uri": "https://localhost:8080/"
        },
        "id": "u8cfwliQ6hgb",
        "outputId": "dd6e4577-7ca0-4b4e-b90a-f1e14321ca84"
      },
      "execution_count": null,
      "outputs": [
        {
          "output_type": "execute_result",
          "data": {
            "text/plain": [
              "[2, 34]"
            ]
          },
          "metadata": {},
          "execution_count": 49
        }
      ]
    },
    {
      "cell_type": "markdown",
      "source": [
        "If we want to add multiple numbers we can use extend()"
      ],
      "metadata": {
        "id": "hNqDvry_hatW"
      }
    },
    {
      "cell_type": "code",
      "source": [
        "firstlist.extend([36,98,61,23,23,]) #this adds in multiple items to the list"
      ],
      "metadata": {
        "id": "-7bdl5Uk6hz6"
      },
      "execution_count": null,
      "outputs": []
    },
    {
      "cell_type": "code",
      "source": [
        "firstlist #lets print our list out"
      ],
      "metadata": {
        "colab": {
          "base_uri": "https://localhost:8080/"
        },
        "id": "8V1-Mw9IVCeS",
        "outputId": "9c7db642-e97c-415f-c8ea-25b34c285a15"
      },
      "execution_count": null,
      "outputs": [
        {
          "output_type": "execute_result",
          "data": {
            "text/plain": [
              "[2, 34, 36, 98, 61, 23, 23]"
            ]
          },
          "metadata": {},
          "execution_count": 22
        }
      ]
    },
    {
      "cell_type": "code",
      "source": [
        "firstlist.count(23) #check the count of number 23"
      ],
      "metadata": {
        "colab": {
          "base_uri": "https://localhost:8080/"
        },
        "id": "ZOigOS069jgY",
        "outputId": "c413118a-1ef3-4221-a01a-fab8aca4cf6e"
      },
      "execution_count": null,
      "outputs": [
        {
          "output_type": "execute_result",
          "data": {
            "text/plain": [
              "2"
            ]
          },
          "metadata": {},
          "execution_count": 23
        }
      ]
    },
    {
      "cell_type": "markdown",
      "source": [
        "One advantage of programming is we can create for loops. These will do something to a list for example for every item in it. here is a for loop that asks to print out each number in group1. First lets remind ourselves what was in group1 by running it."
      ],
      "metadata": {
        "id": "3nVNNoy-0gpr"
      }
    },
    {
      "cell_type": "code",
      "source": [
        "group1"
      ],
      "metadata": {
        "colab": {
          "base_uri": "https://localhost:8080/"
        },
        "id": "JoNIbB8Iid3x",
        "outputId": "e9102dbe-4eb7-4be5-c073-f7bf5c35949e"
      },
      "execution_count": null,
      "outputs": [
        {
          "output_type": "execute_result",
          "data": {
            "text/plain": [
              "[2, 4, 5, 67, 89, 34, 23, 2, 65, 2, 45]"
            ]
          },
          "metadata": {},
          "execution_count": 31
        }
      ]
    },
    {
      "cell_type": "markdown",
      "source": [
        "Now lets make a for loop that prints out each of these"
      ],
      "metadata": {
        "id": "RlvScHMcigfH"
      }
    },
    {
      "cell_type": "code",
      "source": [
        "for i in group1: # a for every 'thing' in group1\n",
        "  print(i) #print it out"
      ],
      "metadata": {
        "colab": {
          "base_uri": "https://localhost:8080/"
        },
        "id": "18BruFS00UC0",
        "outputId": "b420085c-b0f7-4478-941b-a65106f418f5"
      },
      "execution_count": null,
      "outputs": [
        {
          "output_type": "stream",
          "name": "stdout",
          "text": [
            "2\n",
            "4\n",
            "5\n",
            "67\n",
            "89\n",
            "34\n",
            "23\n",
            "2\n",
            "65\n",
            "2\n",
            "45\n"
          ]
        }
      ]
    },
    {
      "cell_type": "markdown",
      "source": [
        "And here is one where we ask it to print it out by multiply it by 3"
      ],
      "metadata": {
        "id": "t9oXdNe0iFAK"
      }
    },
    {
      "cell_type": "code",
      "source": [
        "for i in group1: # a for every thing in group1\n",
        "  print(i*3) #print it but multiple it by 3"
      ],
      "metadata": {
        "colab": {
          "base_uri": "https://localhost:8080/"
        },
        "id": "4rb-iOTi3bYh",
        "outputId": "b369e5c6-f20f-4ac4-ff01-e0c325fe32fc"
      },
      "execution_count": null,
      "outputs": [
        {
          "output_type": "stream",
          "name": "stdout",
          "text": [
            "6\n",
            "12\n",
            "15\n",
            "201\n",
            "267\n",
            "102\n",
            "69\n",
            "6\n",
            "195\n",
            "6\n",
            "135\n"
          ]
        }
      ]
    },
    {
      "cell_type": "code",
      "source": [
        "for i in group1: # a for every thing in group 1\n",
        "  print(i*i) #print it multiplying it by itself"
      ],
      "metadata": {
        "colab": {
          "base_uri": "https://localhost:8080/"
        },
        "id": "aVfE6G_b4TP6",
        "outputId": "a578406e-ab7a-4f03-8f61-9faa1a06aab7"
      },
      "execution_count": null,
      "outputs": [
        {
          "output_type": "stream",
          "name": "stdout",
          "text": [
            "4\n",
            "16\n",
            "25\n",
            "4489\n",
            "7921\n",
            "1156\n",
            "529\n",
            "4\n",
            "4225\n",
            "4\n",
            "2025\n"
          ]
        }
      ]
    },
    {
      "cell_type": "markdown",
      "source": [
        "That is the end of todays sesssion. I hope that was a interesting start to looking at some python basics. Below are some tasks should you wish to carry out some more practice (or we may do these in class)"
      ],
      "metadata": {
        "id": "axCyixIDip29"
      }
    },
    {
      "cell_type": "markdown",
      "source": [
        "**TASKS:** \n",
        "\n",
        "\n",
        "*   Create an second list and name it SecondList and fill it with 5 random numbers\n",
        "\n",
        "\n",
        "*   Then use extend() to add in 5 more random numbers e.g. ([23,67,89,56,34,])\n",
        "*   Create a for loop that prints out each number in your list and multiplies it by 2\n",
        "\n",
        "\n",
        "\n",
        "\n",
        "\n",
        "\n",
        "\n"
      ],
      "metadata": {
        "id": "Kjm0ywOCi2_g"
      }
    },
    {
      "cell_type": "markdown",
      "source": [
        "And just soemthing as a little goodbye"
      ],
      "metadata": {
        "id": "E81efEXEoW88"
      }
    },
    {
      "cell_type": "code",
      "source": [
        "%%html \n",
        "<center><h1><b> Well done everyone! Catch you in the next session!</b></h1></center> "
      ],
      "metadata": {
        "colab": {
          "base_uri": "https://localhost:8080/",
          "height": 74
        },
        "id": "D8r1atfLpphC",
        "outputId": "28414f80-e5ef-4acc-ba26-7cb656a8f448"
      },
      "execution_count": null,
      "outputs": [
        {
          "output_type": "display_data",
          "data": {
            "text/plain": [
              "<IPython.core.display.HTML object>"
            ],
            "text/html": [
              "<center><h1><b> Well done everyone! Catch you in the next session!</b></h1></center> "
            ]
          },
          "metadata": {}
        }
      ]
    },
    {
      "cell_type": "code",
      "source": [
        "#%%html\n",
        "#<marquee style='width: 50%; color: blue;font-size:30px;'><b>Well done! I hope you enjoy this super retro congratulations banner!</b></marquee>"
      ],
      "metadata": {
        "id": "8_AqlxSUoZde"
      },
      "execution_count": null,
      "outputs": []
    },
    {
      "cell_type": "markdown",
      "source": [],
      "metadata": {
        "id": "dB6Wvy7Dixc_"
      }
    }
  ]
}