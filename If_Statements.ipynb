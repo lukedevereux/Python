{
  "nbformat": 4,
  "nbformat_minor": 0,
  "metadata": {
    "colab": {
      "provenance": []
    },
    "kernelspec": {
      "name": "python3",
      "display_name": "Python 3"
    },
    "language_info": {
      "name": "python"
    }
  },
  "cells": [
    {
      "cell_type": "markdown",
      "source": [
        "**The Joy of If statements**\n",
        "written by Luke Devereux 2024"
      ],
      "metadata": {
        "id": "i4-cdDE24ZKp"
      }
    },
    {
      "cell_type": "markdown",
      "source": [
        "Here we can look at 'if statements'. These let us look at things and carry out actions based on 'if things happen'. We will also cover things like AND and OR.\n",
        "\n",
        "If statements are useful as we can look if things happen. For example, if sales is below a certain number we want to create a message. Below we will set a sales number, and then create an if statement to print a message out."
      ],
      "metadata": {
        "id": "HBzQEFpm4fTu"
      }
    },
    {
      "cell_type": "code",
      "execution_count": null,
      "metadata": {
        "id": "NYrUkzYs3wMF"
      },
      "outputs": [],
      "source": [
        "sales = 5"
      ]
    },
    {
      "cell_type": "code",
      "source": [
        "if sales > 3:\n",
        "  print(\"Nice one sales genius!\")\n",
        "else:\n",
        "  print(\"Oh no...you are bad at this sales thing\")\n"
      ],
      "metadata": {
        "colab": {
          "base_uri": "https://localhost:8080/"
        },
        "id": "lub6mmab36Gq",
        "outputId": "08e2adf4-8293-4823-8fcb-4b5ba508ce6a"
      },
      "execution_count": null,
      "outputs": [
        {
          "output_type": "stream",
          "name": "stdout",
          "text": [
            "Oh no...you are bad at this sales thing\n"
          ]
        }
      ]
    },
    {
      "cell_type": "markdown",
      "source": [
        "Try changing the value for sales and see if you can get the other message to print."
      ],
      "metadata": {
        "id": "62iu51GcfoO6"
      }
    },
    {
      "cell_type": "markdown",
      "source": [
        "We could meybe then build on this to add to other variables. For example maybe we had another variable we wanted to add to. Lets say sales and the budget for the Office New Year Party"
      ],
      "metadata": {
        "id": "5s9g7GTH5JRn"
      }
    },
    {
      "cell_type": "code",
      "source": [
        "sales = 5 #create our sales variable and store a number in it\n"
      ],
      "metadata": {
        "id": "mmb7r1qf5Xo3"
      },
      "execution_count": null,
      "outputs": []
    },
    {
      "cell_type": "code",
      "source": [
        "partyBudget = 0 #lets set up our party budget"
      ],
      "metadata": {
        "id": "zwHhcFSH6BNX"
      },
      "execution_count": null,
      "outputs": []
    },
    {
      "cell_type": "markdown",
      "source": [
        "Now below we will check if sales is above a certain number we will increase party budget  by +1. If it isnt above that number we will reduce partyBudget by -1"
      ],
      "metadata": {
        "id": "4c_i4Y7VliYI"
      }
    },
    {
      "cell_type": "code",
      "source": [
        "if sales > 10:\n",
        "  partyBudget += 1\n",
        "else:\n",
        "  partyBudget -= 1"
      ],
      "metadata": {
        "id": "-NrPW_M45dRh"
      },
      "execution_count": null,
      "outputs": []
    },
    {
      "cell_type": "code",
      "source": [
        "partyBudget"
      ],
      "metadata": {
        "colab": {
          "base_uri": "https://localhost:8080/"
        },
        "id": "kT2JO7Xy5qJW",
        "outputId": "d29848ea-89d7-43ab-98cd-805d5e543cc7"
      },
      "execution_count": null,
      "outputs": [
        {
          "output_type": "execute_result",
          "data": {
            "text/plain": [
              "-1"
            ]
          },
          "metadata": {},
          "execution_count": 11
        }
      ]
    },
    {
      "cell_type": "markdown",
      "source": [
        "Maybe we wanted to add in some messages to this as well? Just to reinforce what happened"
      ],
      "metadata": {
        "id": "NKMDUnP_7DmZ"
      }
    },
    {
      "cell_type": "code",
      "source": [
        "if sales > 1:\n",
        "  partyBudget += 1\n",
        "  print(\"Nice your sales total is\", sales, \". Your partyBudget is now\", partyBudget)\n",
        "else:\n",
        "  partyBudget -= 1\n",
        "  print(\"Oh no you lost some budget. It is now\", partyBudget)"
      ],
      "metadata": {
        "colab": {
          "base_uri": "https://localhost:8080/"
        },
        "id": "d_ybyK9F7JBX",
        "outputId": "4705a9f6-4a9e-4e47-ac6d-29b592e4f85f"
      },
      "execution_count": null,
      "outputs": [
        {
          "output_type": "stream",
          "name": "stdout",
          "text": [
            "Nice your sales total is 5 . Your partyBudget is now 0\n"
          ]
        }
      ]
    },
    {
      "cell_type": "markdown",
      "source": [
        "Lets maybe make this more intuitive. this tracks the party budget to some degree and lets us know if sales went up or down."
      ],
      "metadata": {
        "id": "wkLzCpZT71Jf"
      }
    },
    {
      "cell_type": "code",
      "source": [
        "sales = 2\n",
        "\n",
        "\n",
        "if sales > 5:\n",
        "  partyBudget += 1\n",
        "  sales += 1\n",
        "  increase = partyBudget\n",
        "  print(\"Nice you sales total is\", sales, \". Your partyBudget is now\", partyBudget)\n",
        "  if increase > 1:\n",
        "    print(\"Sales went up\")\n",
        "else:\n",
        "  partyBudget -= 1\n",
        "  decrease = partyBudget\n",
        "  print(\"Oh no you lost some budget. It is now\", partyBudget)\n",
        "  if decrease > 0:\n",
        "    print(\"Sales went down!Watch out you will lost party budget \")\n"
      ],
      "metadata": {
        "colab": {
          "base_uri": "https://localhost:8080/"
        },
        "id": "d1Avq78_75T_",
        "outputId": "3328472f-b6db-41f7-f25b-05612a634693"
      },
      "execution_count": null,
      "outputs": [
        {
          "output_type": "stream",
          "name": "stdout",
          "text": [
            "Oh no you lost some budget. It is now -1\n"
          ]
        }
      ]
    },
    {
      "cell_type": "markdown",
      "source": [
        "Maybe we could get it looping through a number of times. We can use a for loop from previous lessons. We can use the function range() for this"
      ],
      "metadata": {
        "id": "VR2oKDjb9QGR"
      }
    },
    {
      "cell_type": "code",
      "source": [
        "for x in range(6): #essentially run something 6 times\n",
        "  print(\"We are printing things!\") #print this message"
      ],
      "metadata": {
        "colab": {
          "base_uri": "https://localhost:8080/"
        },
        "id": "1DX89eGk9W4G",
        "outputId": "5bf7c382-fe2a-4872-e9bc-31595e735520"
      },
      "execution_count": null,
      "outputs": [
        {
          "output_type": "stream",
          "name": "stdout",
          "text": [
            "We are printing things!\n",
            "We are printing things!\n",
            "We are printing things!\n",
            "We are printing things!\n",
            "We are printing things!\n",
            "We are printing things!\n"
          ]
        }
      ]
    },
    {
      "cell_type": "code",
      "source": [
        "import random #we can import this to bring in some randomness into our sales\n",
        "\n",
        "print(random.randrange(1,10)) #this prints a random number between 1 and 10"
      ],
      "metadata": {
        "colab": {
          "base_uri": "https://localhost:8080/"
        },
        "id": "fkOEWzB3DKqL",
        "outputId": "d370cc77-dece-4d65-cdf5-a9c25c444322"
      },
      "execution_count": null,
      "outputs": [
        {
          "output_type": "stream",
          "name": "stdout",
          "text": [
            "3\n"
          ]
        }
      ]
    },
    {
      "cell_type": "markdown",
      "source": [
        "So lets apply this to our if statement. If we have more than 3 sales per day this will give us additional party budget. We will then keep track of total sales. Lets image we have sales each day over 6 days. Lets think about how we could track this."
      ],
      "metadata": {
        "id": "QoCuFaw59oFv"
      }
    },
    {
      "cell_type": "code",
      "source": [
        "\n",
        "partyBudget = 0 #set up intial budget for office party\n",
        "totalsales = 0 #set up a variable for our total number of sales\n",
        "for x in range(6): #run 6 runs of going for sales e.g. 6 days of trying to get sales\n",
        "  sales = random.randrange(1,10) #it will give us a random number sales per meeting\n",
        "  totalsales = totalsales + sales #our total sales is our total sales + the new sales\n",
        "  if sales > 4:# if we have more than 3 sales per day we get an increase in office party budget\n",
        "    partyBudget += 30 #we increase party budget by 1\n",
        "    #increase = partyBudget\n",
        "    print(\"Nice today you made\", sales, \"sales. Your Party Budget is now\", partyBudget)\n",
        "    #if increase > 1:\n",
        "     #print(\"Sales went up\")\n",
        "  else:\n",
        "    partyBudget -= 20 #get penalised 2 for not reaching budget\n",
        "    #decrease = partyBudget\n",
        "    print(\"Oh no, you didn't make enough sales today. You lost some Party Budget. It is now\", partyBudget)\n",
        "    #if decrease > 1:\n",
        "      #print(\"Sales went down!Watch out you will lost party budget \")\n",
        "print(\"\\n\")\n",
        "print(\"Your total office party budget =\", partyBudget, \"pounds\")\n",
        "print(\"Total sales =\", totalsales)"
      ],
      "metadata": {
        "colab": {
          "base_uri": "https://localhost:8080/"
        },
        "id": "3WTfHrV29soy",
        "outputId": "b21dbd16-d8ed-4457-fe98-c0f22ea43d16"
      },
      "execution_count": null,
      "outputs": [
        {
          "output_type": "stream",
          "name": "stdout",
          "text": [
            "Nice today you made 5 sales. Your Party Budget is now 30\n",
            "Oh no, you didn't make enough sales today. You lost some Party Budget. It is now 10\n",
            "Nice today you made 5 sales. Your Party Budget is now 40\n",
            "Nice today you made 9 sales. Your Party Budget is now 70\n",
            "Oh no, you didn't make enough sales today. You lost some Party Budget. It is now 50\n",
            "Nice today you made 8 sales. Your Party Budget is now 80\n",
            "\n",
            "\n",
            "Your total office party budget = 80 pounds\n",
            "Total sales = 32\n"
          ]
        }
      ]
    },
    {
      "cell_type": "markdown",
      "source": [
        "Maybe we want to print out each day in for the sales to make this a bit clearer."
      ],
      "metadata": {
        "id": "9eeLtZ7rhN-b"
      }
    },
    {
      "cell_type": "code",
      "source": [
        "partyBudget = 0 #set up intial budget for office party\n",
        "totalsales = 0 #set up a variable for our total number of sales\n",
        "for x in range(6): #run 6 runs of going for sales meetings\n",
        "  sales = random.randrange(1,10) #it will give us a random number sales per meeting\n",
        "  totalsales = totalsales + sales #our total sales is our total sales + the new sales\n",
        "  if sales > 4:# if we have more than 3 sales per day we get an increase in office party budget\n",
        "    partyBudget += 30 #we increase party budget by 1\n",
        "    increase = partyBudget\n",
        "    print(\"Day\",x, \": Nice today you made\", sales, \"sales. Your Party Budget is now\", partyBudget)\n",
        "    #if increase > 1:\n",
        "     #print(\"Sales went up\")\n",
        "  else:\n",
        "    partyBudget -= 20 #get penalised 2 for not reaching budget\n",
        "    decrease = partyBudget\n",
        "    print(\"Day\",x, \": Oh no, you didn't make enough sales today. You lost some Party Budget. It is now\", partyBudget)\n",
        "    #if decrease > 1:\n",
        "      #print(\"Sales went down!Watch out you will lost party budget \")\n",
        "print(\"\\n\")\n",
        "print(\"Your total office party budget =\", partyBudget, \"pounds\")\n",
        "print(\"Total sales =\", totalsales)"
      ],
      "metadata": {
        "colab": {
          "base_uri": "https://localhost:8080/"
        },
        "id": "plTDnCJ2hVDC",
        "outputId": "7926f255-0f1b-4f44-8c12-93d33f0ef57b"
      },
      "execution_count": null,
      "outputs": [
        {
          "output_type": "stream",
          "name": "stdout",
          "text": [
            "Day 0 : Oh no, you didn't make enough sales today. You lost some Party Budget. It is now -20\n",
            "Day 1 : Oh no, you didn't make enough sales today. You lost some Party Budget. It is now -40\n",
            "Day 2 : Nice today you made 7 sales. Your Party Budget is now -10\n",
            "Day 3 : Oh no, you didn't make enough sales today. You lost some Party Budget. It is now -30\n",
            "Day 4 : Nice today you made 8 sales. Your Party Budget is now 0\n",
            "Day 5 : Oh no, you didn't make enough sales today. You lost some Party Budget. It is now -20\n",
            "\n",
            "\n",
            "Your total office party budget = -20 pounds\n",
            "Total sales = 23\n"
          ]
        }
      ]
    },
    {
      "cell_type": "markdown",
      "source": [
        "Maybe we could add another if statement to say a congratulations message if sales is above a certain number? Also I have changed it from Party Budget to a Marketing Budget."
      ],
      "metadata": {
        "id": "8Ho0o-BmgPix"
      }
    },
    {
      "cell_type": "code",
      "source": [
        "marketingBudget = 50 #set up intial budget for marketing Budget\n",
        "totalsales = 0 #set up a variable for our total number of sales\n",
        "for x in range(6): #run 6 runs of going for sales meetings\n",
        "  sales = random.randrange(1,10) #it will give us a random number sales per meeting\n",
        "  totalsales = totalsales + sales #our total sales is our total sales + the new sales\n",
        "  if sales > 6:# if we have more than 3 sales per day we get an increase in office party budget\n",
        "    marketingBudget += 30 #we increase party budget by 1\n",
        "    increase = marketingBudget\n",
        "    print(\"Day\",x, \":Nice! Today you made\", sales, \"sales. Your Marketing Budget is now\", \"£\",marketingBudget)\n",
        "    #if increase > 1:\n",
        "     #print(\"Sales went up\")\n",
        "  else:\n",
        "    marketingBudget -= 20 #get penalised 2 for not reaching budget\n",
        "    decrease = marketingBudget\n",
        "    print(\"Day\",x, \":Oh no, you didn't make many sales today. We've taken some of your Marketing Budget off you. It is now\", \"£\",marketingBudget)\n",
        "    #if decrease > 1:\n",
        "      #print(\"Sales went down!Watch out you will lost party budget \")\n",
        "print(\"\\n\")\n",
        "print(\"Your total marketing budget =\", marketingBudget, \"pounds\")\n",
        "print(\"Total sales =\", totalsales)\n",
        "if totalsales >20:\n",
        "  print(\"Wow, you  made some good sales this week! Well done!\")"
      ],
      "metadata": {
        "colab": {
          "base_uri": "https://localhost:8080/"
        },
        "id": "5QWbEJtzgYEO",
        "outputId": "5ab9d4ec-ff29-4db7-b7f7-c435ae70f7a7"
      },
      "execution_count": null,
      "outputs": [
        {
          "output_type": "stream",
          "name": "stdout",
          "text": [
            "Day 0 :Nice! Today you made 8 sales. Your Marketing Budget is now £ 80\n",
            "Day 1 :Nice! Today you made 8 sales. Your Marketing Budget is now £ 110\n",
            "Day 2 :Nice! Today you made 9 sales. Your Marketing Budget is now £ 140\n",
            "Day 3 :Nice! Today you made 9 sales. Your Marketing Budget is now £ 170\n",
            "Day 4 :Oh no, you didn't make many sales today. We've taken some of your Marketing Budget off you. It is now £ 150\n",
            "Day 5 :Nice! Today you made 7 sales. Your Marketing Budget is now £ 180\n",
            "\n",
            "\n",
            "Your total marketing budget = 180 pounds\n",
            "Total sales = 43\n",
            "Wow, you  made some good sales this week! Well done!\n"
          ]
        }
      ]
    },
    {
      "cell_type": "markdown",
      "source": [
        "**TASK:** Copy the above code below. Then add if statement that prints a message if totalsales is below a certain number\n"
      ],
      "metadata": {
        "id": "0cS6GcQagroD"
      }
    },
    {
      "cell_type": "code",
      "source": [],
      "metadata": {
        "id": "0FTlg3mP4LSY"
      },
      "execution_count": null,
      "outputs": []
    },
    {
      "cell_type": "markdown",
      "source": [
        "**TASK** You may notice that it prints out Day 0, but you might want it to start printing out on Day 1. How could you do that?"
      ],
      "metadata": {
        "id": "9gcRrgbw3Nrn"
      }
    },
    {
      "cell_type": "code",
      "source": [],
      "metadata": {
        "id": "Lop4fjaM3M3Q"
      },
      "execution_count": null,
      "outputs": []
    },
    {
      "cell_type": "markdown",
      "source": [],
      "metadata": {
        "id": "LrgKrWY531Sp"
      }
    },
    {
      "cell_type": "code",
      "source": [
        "marketingBudget = 50 #set up intial budget for marketing Budget\n",
        "totalsales = 0 #set up a variable for our total number of sales\n",
        "for x in range(6): #run 6 runs of going for sales meetings\n",
        "  sales = random.randrange(1,10) #it will give us a random number sales per meeting\n",
        "  totalsales = totalsales + sales #our total sales is our total sales + the new sales\n",
        "  if sales > 6:# if we have more than 3 sales per day we get an increase in office party budget\n",
        "    marketingBudget += 30 #we increase party budget by 1\n",
        "    increase = marketingBudget\n",
        "    print(\"Day\",x, \":Nice! Today you made\", sales, \"sales. Your Marketing Budget is now\", \"£\",marketingBudget)\n",
        "    #if increase > 1:\n",
        "     #print(\"Sales went up\")\n",
        "  else:\n",
        "    marketingBudget -= 20 #get penalised 2 for not reaching budget\n",
        "    decrease = marketingBudget\n",
        "    print(\"Day\",x, \":Oh no, you only made\",sales,\" sales. We've taken some of your Marketing Budget off you. It is now\", \"£\",marketingBudget)\n",
        "    #if decrease > 1:\n",
        "      #print(\"Sales went down!Watch out you will lost party budget \")\n",
        "print(\"\\n\")\n",
        "print(\"Your total marketing budget =\", marketingBudget, \"pounds\")\n",
        "print(\"Total sales =\", totalsales)\n",
        "if totalsales >20:\n",
        "  print(\"Wow, you  made some good sales this week! Well done!\")\n",
        "if marketingBudget <0:\n",
        "  print(\"Uh oh...you now owe us money out of your own pocket!!\")"
      ],
      "metadata": {
        "colab": {
          "base_uri": "https://localhost:8080/"
        },
        "id": "VMz9kJ9Jg3P_",
        "outputId": "9088346e-6799-444a-822b-3c5cff7a708c"
      },
      "execution_count": null,
      "outputs": [
        {
          "output_type": "stream",
          "name": "stdout",
          "text": [
            "Day 0 :Oh no, you only made 3  sales. We've taken some of your Marketing Budget off you. It is now £ 30\n",
            "Day 1 :Oh no, you only made 6  sales. We've taken some of your Marketing Budget off you. It is now £ 10\n",
            "Day 2 :Oh no, you only made 4  sales. We've taken some of your Marketing Budget off you. It is now £ -10\n",
            "Day 3 :Oh no, you only made 5  sales. We've taken some of your Marketing Budget off you. It is now £ -30\n",
            "Day 4 :Nice! Today you made 9 sales. Your Marketing Budget is now £ 0\n",
            "Day 5 :Oh no, you only made 1  sales. We've taken some of your Marketing Budget off you. It is now £ -20\n",
            "\n",
            "\n",
            "Your total marketing budget = -20 pounds\n",
            "Total sales = 28\n",
            "Wow, you  made some good sales this week! Well done!\n",
            "Uh oh...you now owe us money out of your own pocket!!\n"
          ]
        }
      ]
    },
    {
      "cell_type": "markdown",
      "source": [
        "Lets say we wanted to add a bit of suspense to the results coming out (just for fun). We can use 'time' to help us add a delay in between each printout. Here we will import time module. And then in the code add a delay."
      ],
      "metadata": {
        "id": "M5-jb6Eg1GgR"
      }
    },
    {
      "cell_type": "code",
      "source": [
        "import time #import time"
      ],
      "metadata": {
        "id": "pkCIJTUp0jzt"
      },
      "execution_count": null,
      "outputs": []
    },
    {
      "cell_type": "code",
      "source": [
        "marketingBudget = 50 #set up intial budget for marketing Budget\n",
        "totalsales = 0 #set up a variable for our total number of sales\n",
        "for x in range(6): #run 6 runs of going for sales meetings\n",
        "  time.sleep(3.0) #here we add the delay of 3 seconds\n",
        "  sales = random.randrange(1,10) #it will give us a random number sales per meeting\n",
        "  totalsales = totalsales + sales #our total sales is our total sales + the new sales\n",
        "  if sales > 6:# if we have more than 3 sales per day we get an increase in office party budget\n",
        "    marketingBudget += 30 #we increase party budget by 1\n",
        "    increase = marketingBudget\n",
        "    print(\"Day\",x, \":Nice! Today you made\", sales, \"sales. Your Marketing Budget is now\", \"£\",marketingBudget)\n",
        "    #if increase > 1:\n",
        "     #print(\"Sales went up\")\n",
        "  else:\n",
        "    marketingBudget -= 20 #get penalised 2 for not reaching budget\n",
        "    decrease = marketingBudget\n",
        "    print(\"Day\",x, \":Oh no, you only made\",sales,\" sales. We've taken some of your Marketing Budget off you. It is now\", \"£\",marketingBudget)\n",
        "    #if decrease > 1:\n",
        "      #print(\"Sales went down!Watch out you will lost party budget \")\n",
        "print(\"\\n\")\n",
        "print(\"Your total marketing budget =\", marketingBudget, \"pounds\")\n",
        "print(\"Total sales =\", totalsales)\n",
        "if totalsales >20:\n",
        "  print(\"Wow, you  made some good sales this week! Well done!\")\n",
        "if marketingBudget <0:\n",
        "  print(\"Uh oh...you now owe us money out of your own pocket!!\")"
      ],
      "metadata": {
        "colab": {
          "base_uri": "https://localhost:8080/"
        },
        "id": "JarI2aAq0nTU",
        "outputId": "7488d02a-6bf1-4ccc-fae8-09024bbcc8fc"
      },
      "execution_count": null,
      "outputs": [
        {
          "output_type": "stream",
          "name": "stdout",
          "text": [
            "Day 0 :Oh no, you only made 3  sales. We've taken some of your Marketing Budget off you. It is now £ 30\n",
            "Day 1 :Oh no, you only made 6  sales. We've taken some of your Marketing Budget off you. It is now £ 10\n",
            "Day 2 :Oh no, you only made 3  sales. We've taken some of your Marketing Budget off you. It is now £ -10\n",
            "Day 3 :Oh no, you only made 4  sales. We've taken some of your Marketing Budget off you. It is now £ -30\n",
            "Day 4 :Oh no, you only made 6  sales. We've taken some of your Marketing Budget off you. It is now £ -50\n",
            "Day 5 :Nice! Today you made 7 sales. Your Marketing Budget is now £ -20\n",
            "\n",
            "\n",
            "Your total marketing budget = -20 pounds\n",
            "Total sales = 29\n",
            "Wow, you  made some good sales this week! Well done!\n",
            "Uh oh...you now owe us money out of your own pocket!!\n"
          ]
        }
      ]
    },
    {
      "cell_type": "markdown",
      "source": [
        "# **Using text**"
      ],
      "metadata": {
        "id": "d2pHNZMQ0CT3"
      }
    },
    {
      "cell_type": "markdown",
      "source": [
        "Of course we could also play around with text and 'if' statements. Lets do that now."
      ],
      "metadata": {
        "id": "bwb6Am5F7Q9Y"
      }
    },
    {
      "cell_type": "code",
      "source": [
        "password = 'cats'"
      ],
      "metadata": {
        "id": "QmGKCyBR7W3W"
      },
      "execution_count": null,
      "outputs": []
    },
    {
      "cell_type": "code",
      "source": [
        "if password == 'cats': #we use == to mean is equal to\n",
        "  print(\"Welcome to the club\")\n",
        "else:\n",
        "  print(\"Sorry you don't have the discount code. Go shop somewhere else!\")"
      ],
      "metadata": {
        "colab": {
          "base_uri": "https://localhost:8080/"
        },
        "id": "JnOmYmcH7ep-",
        "outputId": "7eca13a6-0e7e-4542-d997-ca50ab63baa1"
      },
      "execution_count": null,
      "outputs": [
        {
          "output_type": "stream",
          "name": "stdout",
          "text": [
            "Welcome to the club\n"
          ]
        }
      ]
    },
    {
      "cell_type": "code",
      "source": [
        "password = input('What is the discount code?(press enter when done)')\n",
        "if password == 'cats': #we use == to mean is equal to\n",
        "  print(\"Welcome to the club!\")\n",
        "else:\n",
        "  print(\"Sorry you don't have the discount code. Go shop somewhere else!\")"
      ],
      "metadata": {
        "colab": {
          "base_uri": "https://localhost:8080/"
        },
        "id": "-rwRJqb38CRI",
        "outputId": "8dc358f9-69f2-4c17-affe-86939c28c165"
      },
      "execution_count": null,
      "outputs": [
        {
          "output_type": "stream",
          "name": "stdout",
          "text": [
            "What is the discount code?(press enter when done)cats\n",
            "Welcome to the club\n"
          ]
        }
      ]
    },
    {
      "cell_type": "markdown",
      "source": [
        "Maybe we could use another input box?"
      ],
      "metadata": {
        "id": "lwGVFpoO8ZTg"
      }
    },
    {
      "cell_type": "code",
      "source": [
        "password = input('What is the discount code?(press enter when done)')\n",
        "if password == 'cats': #we use == to mean is equal to\n",
        "  print(\"Welcome to the club\")\n",
        "  password = input('What is the second discount code for even more off?')\n",
        "  if password == 'dogs': #we use == to mean is equal to\n",
        "    print(\"Great now you get 99% of any purchases!\")\n",
        "else:\n",
        "  print(\"Sorry you don't have the discount code. Go shop somewhere else!\")"
      ],
      "metadata": {
        "colab": {
          "base_uri": "https://localhost:8080/"
        },
        "id": "VKv_mUh58ceL",
        "outputId": "f6f0cc6d-c876-47ea-a0e5-0eb787a336ca"
      },
      "execution_count": null,
      "outputs": [
        {
          "output_type": "stream",
          "name": "stdout",
          "text": [
            "What is the discount code?(press enter when done)cats\n",
            "Welcome to the club\n",
            "What is the second discount code for even more off?dogs\n",
            "Great now you get 99% of any purchases!\n"
          ]
        }
      ]
    },
    {
      "cell_type": "markdown",
      "source": [
        "You can see how this would have shown how early chatbots would have been built."
      ],
      "metadata": {
        "id": "UbAAqug3gVc2"
      }
    },
    {
      "cell_type": "markdown",
      "source": [
        "We can also combine this with other operators such as if something AND something are true."
      ],
      "metadata": {
        "id": "3y1_L210g_ts"
      }
    },
    {
      "cell_type": "code",
      "source": [
        "drinks = 2"
      ],
      "metadata": {
        "id": "7Lqd4T0AhQKb"
      },
      "execution_count": null,
      "outputs": []
    },
    {
      "cell_type": "code",
      "source": [
        "sandwiches = 5"
      ],
      "metadata": {
        "id": "g7-jXXfghRVz"
      },
      "execution_count": null,
      "outputs": []
    },
    {
      "cell_type": "code",
      "source": [
        "if sandwiches > 2 and drinks > 3:\n",
        "  print(\"Looks like you have some nice food and drink!\")\n",
        "else:\n",
        "  print(\"Oh no...better find a more substantial lunch\")"
      ],
      "metadata": {
        "colab": {
          "base_uri": "https://localhost:8080/"
        },
        "id": "kmpFA_Bsgpv4",
        "outputId": "57b35022-4da2-4449-e2ad-6abd11ceb821"
      },
      "execution_count": null,
      "outputs": [
        {
          "output_type": "stream",
          "name": "stdout",
          "text": [
            "Oh no...better find a more substantial lunch\n"
          ]
        }
      ]
    },
    {
      "cell_type": "markdown",
      "source": [
        "So in the above example we needed sandwhiches to be greater than 2 and drinks to be greater than 3"
      ],
      "metadata": {
        "id": "MKDncZXoh8WZ"
      }
    },
    {
      "cell_type": "markdown",
      "source": [
        "Let's think about anothher example"
      ],
      "metadata": {
        "id": "UOGf53rniNFc"
      }
    },
    {
      "cell_type": "code",
      "source": [
        "purchases = 4\n",
        "Location = \"London\""
      ],
      "metadata": {
        "id": "j6TdJM1BiRTD"
      },
      "execution_count": null,
      "outputs": []
    },
    {
      "cell_type": "code",
      "source": [
        "if purchases > 2 and Location == \"London\":\n",
        "  print(\"Nice they keep buying our stuff in London. Keep advertising there!\")\n",
        "else:\n",
        "  print(\"Oh no...we need to convince more Londoners to buy. Maybe we should advertise more\")"
      ],
      "metadata": {
        "colab": {
          "base_uri": "https://localhost:8080/"
        },
        "id": "KyEHoiH8iaLj",
        "outputId": "d9f5fe4c-0f9b-4570-dbd0-681776dc732d"
      },
      "execution_count": null,
      "outputs": [
        {
          "output_type": "stream",
          "name": "stdout",
          "text": [
            "Nice they keep buying our stuff in London. Keep advertising there!\n"
          ]
        }
      ]
    },
    {
      "cell_type": "markdown",
      "source": [
        "Maybe we want to check two cities. We can use OR to do this. Now we will check if Location is equal to London OR Bristol. We put this in [] though."
      ],
      "metadata": {
        "id": "_qQcp8lPizzB"
      }
    },
    {
      "cell_type": "code",
      "source": [
        "purchases = 3\n",
        "Location = \"Bristol\""
      ],
      "metadata": {
        "id": "tmSa803lizGR"
      },
      "execution_count": null,
      "outputs": []
    },
    {
      "cell_type": "code",
      "source": [
        "if purchases > 2 and [Location == \"London\" or \"Bristol\"] :\n",
        "  print(\"Nice they keep buying our stuff in\", Location)\n",
        "else:\n",
        "  print(\"Oh no...we need to convince more people from\", Location, \"to buy!\")"
      ],
      "metadata": {
        "colab": {
          "base_uri": "https://localhost:8080/"
        },
        "id": "B5NIEEcei4-J",
        "outputId": "acfedd75-e635-478d-a946-44cd0b8342da"
      },
      "execution_count": null,
      "outputs": [
        {
          "output_type": "stream",
          "name": "stdout",
          "text": [
            "Nice they keep buying our stuff in Bristol\n"
          ]
        }
      ]
    }
  ]
}